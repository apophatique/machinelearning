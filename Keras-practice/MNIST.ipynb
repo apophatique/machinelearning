{
 "cells": [
  {
   "cell_type": "code",
   "execution_count": 3,
   "metadata": {},
   "outputs": [],
   "source": [
    "import tensorflow as tf\n",
    "from tensorflow import keras"
   ]
  },
  {
   "cell_type": "code",
   "execution_count": 7,
   "metadata": {},
   "outputs": [],
   "source": [
    "fashion_mnist = keras.datasets.fashion_mnist\n",
    "(X_train_full, y_train_full), (X_test, y_test) = fashion_mnist.load_data()"
   ]
  },
  {
   "cell_type": "code",
   "execution_count": 13,
   "metadata": {},
   "outputs": [],
   "source": [
    "X_valid, X_train = X_train_full[:5000]/255.0, X_train_full[5000:]/255.0\n",
    "y_valid, y_train = y_train_full[:5000], y_train_full[5000:]"
   ]
  },
  {
   "cell_type": "code",
   "execution_count": 14,
   "metadata": {},
   "outputs": [
    {
     "data": {
      "text/plain": [
       "'T-shirt/top'"
      ]
     },
     "execution_count": 14,
     "metadata": {},
     "output_type": "execute_result"
    }
   ],
   "source": [
    "class_names = [\"T-shirt/top\", \"Trouser\", \"Pullover\", \"Dress\", \"Coat\",\n",
    "\"Sandal\", \"Shirt\", \"Sneaker\", \"Bag\", \"Ankle boot\"]\n",
    "class_names[y_train[1]]"
   ]
  },
  {
   "cell_type": "code",
   "execution_count": 16,
   "metadata": {},
   "outputs": [],
   "source": [
    "model = keras.models.Sequential([\n",
    "    keras.layers.Flatten(input_shape=[28, 28]),\n",
    "    keras.layers.Dense(300, activation=\"relu\"),\n",
    "    keras.layers.Dense(100, activation=\"relu\"),\n",
    "    keras.layers.Dense(10, activation=\"softmax\")\n",
    "])"
   ]
  },
  {
   "cell_type": "code",
   "execution_count": 17,
   "metadata": {},
   "outputs": [
    {
     "name": "stdout",
     "output_type": "stream",
     "text": [
      "Model: \"sequential_1\"\n",
      "_________________________________________________________________\n",
      "Layer (type)                 Output Shape              Param #   \n",
      "=================================================================\n",
      "flatten_1 (Flatten)          (None, 784)               0         \n",
      "_________________________________________________________________\n",
      "dense_3 (Dense)              (None, 300)               235500    \n",
      "_________________________________________________________________\n",
      "dense_4 (Dense)              (None, 100)               30100     \n",
      "_________________________________________________________________\n",
      "dense_5 (Dense)              (None, 10)                1010      \n",
      "=================================================================\n",
      "Total params: 266,610\n",
      "Trainable params: 266,610\n",
      "Non-trainable params: 0\n",
      "_________________________________________________________________\n"
     ]
    }
   ],
   "source": [
    "model.summary()"
   ]
  },
  {
   "cell_type": "code",
   "execution_count": 18,
   "metadata": {},
   "outputs": [],
   "source": [
    "model.compile(loss='sparse_categorical_crossentropy', \n",
    "              optimizer='sgd', \n",
    "              metrics=['accuracy'])"
   ]
  },
  {
   "cell_type": "code",
   "execution_count": 19,
   "metadata": {},
   "outputs": [
    {
     "name": "stdout",
     "output_type": "stream",
     "text": [
      "Train on 55000 samples, validate on 5000 samples\n",
      "Epoch 1/30\n",
      "55000/55000 [==============================] - 22s 404us/sample - loss: 0.7187 - accuracy: 0.7676 - val_loss: 0.5241 - val_accuracy: 0.8178\n",
      "Epoch 2/30\n",
      "55000/55000 [==============================] - 19s 347us/sample - loss: 0.4870 - accuracy: 0.8310 - val_loss: 0.4563 - val_accuracy: 0.8432\n",
      "Epoch 3/30\n",
      "55000/55000 [==============================] - 19s 352us/sample - loss: 0.4426 - accuracy: 0.8441 - val_loss: 0.4604 - val_accuracy: 0.8416\n",
      "Epoch 4/30\n",
      "55000/55000 [==============================] - 20s 371us/sample - loss: 0.4136 - accuracy: 0.8552 - val_loss: 0.4274 - val_accuracy: 0.8490\n",
      "Epoch 5/30\n",
      "55000/55000 [==============================] - 19s 342us/sample - loss: 0.3952 - accuracy: 0.8611 - val_loss: 0.3848 - val_accuracy: 0.8660\n",
      "Epoch 6/30\n",
      "55000/55000 [==============================] - 20s 363us/sample - loss: 0.3801 - accuracy: 0.8657 - val_loss: 0.3832 - val_accuracy: 0.8672\n",
      "Epoch 7/30\n",
      "55000/55000 [==============================] - 22s 402us/sample - loss: 0.3657 - accuracy: 0.8715 - val_loss: 0.3672 - val_accuracy: 0.8684\n",
      "Epoch 8/30\n",
      "55000/55000 [==============================] - 21s 376us/sample - loss: 0.3538 - accuracy: 0.8749 - val_loss: 0.3508 - val_accuracy: 0.8740\n",
      "Epoch 9/30\n",
      "55000/55000 [==============================] - 21s 377us/sample - loss: 0.3443 - accuracy: 0.8781 - val_loss: 0.3707 - val_accuracy: 0.8680\n",
      "Epoch 10/30\n",
      "55000/55000 [==============================] - 20s 370us/sample - loss: 0.3338 - accuracy: 0.8815 - val_loss: 0.3407 - val_accuracy: 0.8800\n",
      "Epoch 11/30\n",
      "55000/55000 [==============================] - 19s 344us/sample - loss: 0.3250 - accuracy: 0.8842 - val_loss: 0.3324 - val_accuracy: 0.8826\n",
      "Epoch 12/30\n",
      "55000/55000 [==============================] - 20s 358us/sample - loss: 0.3171 - accuracy: 0.8871 - val_loss: 0.3302 - val_accuracy: 0.8812\n",
      "Epoch 13/30\n",
      "55000/55000 [==============================] - 19s 352us/sample - loss: 0.3110 - accuracy: 0.8897 - val_loss: 0.3286 - val_accuracy: 0.8852\n",
      "Epoch 14/30\n",
      "55000/55000 [==============================] - 20s 360us/sample - loss: 0.3032 - accuracy: 0.8914 - val_loss: 0.3173 - val_accuracy: 0.8894\n",
      "Epoch 15/30\n",
      "55000/55000 [==============================] - 19s 344us/sample - loss: 0.2976 - accuracy: 0.8929 - val_loss: 0.3240 - val_accuracy: 0.8850\n",
      "Epoch 16/30\n",
      "55000/55000 [==============================] - 21s 374us/sample - loss: 0.2910 - accuracy: 0.8953 - val_loss: 0.3542 - val_accuracy: 0.8734\n",
      "Epoch 17/30\n",
      "55000/55000 [==============================] - 21s 374us/sample - loss: 0.2859 - accuracy: 0.8970 - val_loss: 0.3168 - val_accuracy: 0.8866\n",
      "Epoch 18/30\n",
      "55000/55000 [==============================] - 22s 396us/sample - loss: 0.2812 - accuracy: 0.8983 - val_loss: 0.3218 - val_accuracy: 0.8884\n",
      "Epoch 19/30\n",
      "55000/55000 [==============================] - 21s 389us/sample - loss: 0.2750 - accuracy: 0.9015 - val_loss: 0.3098 - val_accuracy: 0.8900\n",
      "Epoch 20/30\n",
      "55000/55000 [==============================] - 19s 353us/sample - loss: 0.2704 - accuracy: 0.9027 - val_loss: 0.3101 - val_accuracy: 0.8874\n",
      "Epoch 21/30\n",
      "55000/55000 [==============================] - 21s 386us/sample - loss: 0.2657 - accuracy: 0.9043 - val_loss: 0.3064 - val_accuracy: 0.8906\n",
      "Epoch 22/30\n",
      "55000/55000 [==============================] - 21s 388us/sample - loss: 0.2611 - accuracy: 0.9054 - val_loss: 0.3084 - val_accuracy: 0.8906\n",
      "Epoch 23/30\n",
      "55000/55000 [==============================] - 20s 356us/sample - loss: 0.2561 - accuracy: 0.9080 - val_loss: 0.2997 - val_accuracy: 0.8930\n",
      "Epoch 24/30\n",
      "55000/55000 [==============================] - 20s 358us/sample - loss: 0.2528 - accuracy: 0.9078 - val_loss: 0.3095 - val_accuracy: 0.8910\n",
      "Epoch 25/30\n",
      "55000/55000 [==============================] - 20s 363us/sample - loss: 0.2480 - accuracy: 0.9104 - val_loss: 0.3029 - val_accuracy: 0.8914\n",
      "Epoch 26/30\n",
      "55000/55000 [==============================] - 20s 363us/sample - loss: 0.2442 - accuracy: 0.9111 - val_loss: 0.3122 - val_accuracy: 0.8876\n",
      "Epoch 27/30\n",
      "55000/55000 [==============================] - 19s 338us/sample - loss: 0.2404 - accuracy: 0.9133 - val_loss: 0.3039 - val_accuracy: 0.8920\n",
      "Epoch 28/30\n",
      "55000/55000 [==============================] - 18s 330us/sample - loss: 0.2373 - accuracy: 0.9136 - val_loss: 0.3040 - val_accuracy: 0.8912\n",
      "Epoch 29/30\n",
      "55000/55000 [==============================] - 19s 344us/sample - loss: 0.2321 - accuracy: 0.9165 - val_loss: 0.3014 - val_accuracy: 0.8916\n",
      "Epoch 30/30\n",
      "55000/55000 [==============================] - 20s 370us/sample - loss: 0.2293 - accuracy: 0.9169 - val_loss: 0.3001 - val_accuracy: 0.8936\n"
     ]
    }
   ],
   "source": [
    "history = model.fit(X_train, \n",
    "                    y_train, \n",
    "                    epochs=30, \n",
    "                    validation_data=(X_valid, y_valid))"
   ]
  },
  {
   "cell_type": "code",
   "execution_count": null,
   "metadata": {},
   "outputs": [],
   "source": []
  }
 ],
 "metadata": {
  "kernelspec": {
   "display_name": "Python 3",
   "language": "python",
   "name": "python3"
  },
  "language_info": {
   "codemirror_mode": {
    "name": "ipython",
    "version": 3
   },
   "file_extension": ".py",
   "mimetype": "text/x-python",
   "name": "python",
   "nbconvert_exporter": "python",
   "pygments_lexer": "ipython3",
   "version": "3.7.4"
  }
 },
 "nbformat": 4,
 "nbformat_minor": 2
}
