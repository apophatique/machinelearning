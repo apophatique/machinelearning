{
 "cells": [
  {
   "cell_type": "code",
   "execution_count": 35,
   "metadata": {},
   "outputs": [],
   "source": [
    "from sklearn import datasets, model_selection, ensemble, neighbors, metrics\n",
    "import numpy as np"
   ]
  },
  {
   "cell_type": "code",
   "execution_count": 56,
   "metadata": {},
   "outputs": [],
   "source": [
    "random_forest_classifier = ensemble.RandomForestClassifier(n_estimators=1000)\n",
    "k_neighbors_classifier = neighbors.KNeighborsClassifier()\n",
    "\n",
    "data = datasets.load_digits()\n",
    "\n",
    "X = data.data\n",
    "y = data.target"
   ]
  },
  {
   "cell_type": "code",
   "execution_count": 80,
   "metadata": {},
   "outputs": [],
   "source": [
    "p = 0.75\n",
    "idx = int(p * X.shape[0])\n",
    "X_train, X_test = np.split(X, [idx])\n",
    "y_train, y_test = np.split(y, [idx])\n",
    "y_predicted = []\n",
    "\n",
    "for test_row in X_test:\n",
    "    pairs_list = []\n",
    "    for index, train_row in enumerate(X_train):\n",
    "        MSE = metrics.mean_squared_error(test_row, train_row)\n",
    "        pairs_list.append((MSE, y_train[index]))\n",
    "    \n",
    "    pairs_list.sort(key = lambda tup: tup[0])\n",
    "    y_predicted.append(pairs_list[0][1])\n",
    "\n",
    "answer1 = 1 - metrics.accuracy_score(y_test, y_predicted)"
   ]
  },
  {
   "cell_type": "code",
   "execution_count": null,
   "metadata": {},
   "outputs": [],
   "source": [
    "p = 0.75\n",
    "idx = int(p * X.shape[0])\n",
    "X_train, X_test = np.split(X, [idx])\n",
    "y_train, y_test = np.split(y, [idx])\n",
    "\n",
    "random_forest_classifier.fit(X_train, y_train)\n",
    "answer2 = 1 - metrics.accuracy_score(y_test,random_forest_classifier.predict(X_test))"
   ]
  },
  {
   "cell_type": "code",
   "execution_count": 82,
   "metadata": {},
   "outputs": [],
   "source": [
    "with open('answer1.txt', 'w+') as file:\n",
    "    file.write(str(answer1))\n",
    "    file.close\n",
    "    \n",
    "with open('answer2.txt', 'w+') as file:\n",
    "    file.write(str(answer2))\n",
    "    file.close"
   ]
  },
  {
   "cell_type": "code",
   "execution_count": 83,
   "metadata": {},
   "outputs": [
    {
     "name": "stdout",
     "output_type": "stream",
     "text": [
      "0.0377777777777778\n"
     ]
    }
   ],
   "source": [
    "print(answer1)"
   ]
  },
  {
   "cell_type": "code",
   "execution_count": 84,
   "metadata": {},
   "outputs": [
    {
     "name": "stdout",
     "output_type": "stream",
     "text": [
      "0.06888888888888889\n"
     ]
    }
   ],
   "source": [
    "print(answer2)"
   ]
  }
 ],
 "metadata": {
  "kernelspec": {
   "display_name": "Python 3",
   "language": "python",
   "name": "python3"
  },
  "language_info": {
   "codemirror_mode": {
    "name": "ipython",
    "version": 3
   },
   "file_extension": ".py",
   "mimetype": "text/x-python",
   "name": "python",
   "nbconvert_exporter": "python",
   "pygments_lexer": "ipython3",
   "version": "3.7.4"
  }
 },
 "nbformat": 4,
 "nbformat_minor": 2
}
