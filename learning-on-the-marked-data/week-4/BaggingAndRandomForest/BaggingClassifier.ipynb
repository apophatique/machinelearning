{
 "cells": [
  {
   "cell_type": "code",
   "execution_count": 41,
   "metadata": {},
   "outputs": [],
   "source": [
    "import scipy\n",
    "import numpy\n",
    "from sklearn import datasets, tree, metrics, model_selection, ensemble"
   ]
  },
  {
   "cell_type": "code",
   "execution_count": 25,
   "metadata": {},
   "outputs": [],
   "source": [
    "digits = datasets.load_digits()\n",
    "X = digits.data\n",
    "y = digits.target"
   ]
  },
  {
   "cell_type": "code",
   "execution_count": 98,
   "metadata": {},
   "outputs": [],
   "source": [
    "clf = tree.DecisionTreeClassifier()\n",
    "clf.fit(X, y)\n",
    "\n",
    "answer1 = model_selection.cross_val_score(clf, X, y, cv=10).mean()"
   ]
  },
  {
   "cell_type": "code",
   "execution_count": 99,
   "metadata": {},
   "outputs": [],
   "source": [
    "rfc = ensemble.BaggingClassifier(base_estimator = tree.DecisionTreeClassifier(), n_estimators = 100)\n",
    "\n",
    "answer2 = model_selection.cross_val_score(rfc, X, y, cv=10).mean()"
   ]
  },
  {
   "cell_type": "code",
   "execution_count": 161,
   "metadata": {},
   "outputs": [
    {
     "name": "stdout",
     "output_type": "stream",
     "text": [
      "0.9337970356674887\n"
     ]
    }
   ],
   "source": [
    "rfs = ensemble.BaggingClassifier(clf, \n",
    "                                n_estimators=100, \n",
    "                                max_features=int(scipy.sqrt(X.shape[1])))\n",
    "\n",
    "answer3 =  model_selection.cross_val_score(rfc, X, y, cv=10).mean()\n",
    "print(answer3)"
   ]
  },
  {
   "cell_type": "code",
   "execution_count": 163,
   "metadata": {},
   "outputs": [
    {
     "name": "stderr",
     "output_type": "stream",
     "text": [
      "/home/neighbourhood/anaconda3/lib/python3.7/site-packages/sklearn/model_selection/_split.py:1978: FutureWarning: The default value of cv will change from 3 to 5 in version 0.22. Specify it explicitly to silence this warning.\n",
      "  warnings.warn(CV_WARNING, FutureWarning)\n"
     ]
    },
    {
     "name": "stdout",
     "output_type": "stream",
     "text": [
      "0.9466152178135753\n"
     ]
    }
   ],
   "source": [
    "rfc = ensemble.BaggingClassifier(base_estimator = tree.DecisionTreeClassifier(splitter='random'), n_estimators=100)\n",
    "\n",
    "train_sizes, train_scores, test_scores = model_selection.learning_curve(rfc, \n",
    "                                                                        X, \n",
    "                                                                        y)\n",
    "answer4 = model_selection.cross_val_score(rfc, X, y, cv=10).mean()\n",
    "print(answer4)"
   ]
  },
  {
   "cell_type": "code",
   "execution_count": 121,
   "metadata": {},
   "outputs": [],
   "source": [
    "def write_to_file(name, value):\n",
    "    with open(name, 'w+') as file:\n",
    "        file.write(str(value))\n",
    "        file.close"
   ]
  },
  {
   "cell_type": "code",
   "execution_count": 154,
   "metadata": {},
   "outputs": [],
   "source": [
    "answers = [answer1, answer2, answer3, answer4, '2 3 5 6']\n",
    "for index in range(1, 6):\n",
    "    write_to_file('{0}.txt'.format(index), answers[index-1])"
   ]
  },
  {
   "cell_type": "code",
   "execution_count": null,
   "metadata": {},
   "outputs": [],
   "source": []
  }
 ],
 "metadata": {
  "kernelspec": {
   "display_name": "Python 3",
   "language": "python",
   "name": "python3"
  },
  "language_info": {
   "codemirror_mode": {
    "name": "ipython",
    "version": 3
   },
   "file_extension": ".py",
   "mimetype": "text/x-python",
   "name": "python",
   "nbconvert_exporter": "python",
   "pygments_lexer": "ipython3",
   "version": "3.7.4"
  }
 },
 "nbformat": 4,
 "nbformat_minor": 2
}
