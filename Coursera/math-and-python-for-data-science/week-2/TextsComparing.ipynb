{
 "cells": [
  {
   "cell_type": "code",
   "execution_count": 1,
   "metadata": {},
   "outputs": [],
   "source": [
    "import re\n",
    "import numpy as np\n",
    "from scipy.spatial import distance\n",
    "import scipy as sc\n",
    "from scipy import linalg\n",
    "from matplotlib import pylab as plt"
   ]
  },
  {
   "cell_type": "code",
   "execution_count": 2,
   "metadata": {},
   "outputs": [],
   "source": [
    "with open(\"sentences.txt\", \"r\") as file:\n",
    "    lines_list = file.readlines()\n",
    "    file.close()\n",
    "sentence_list = []\n",
    "\n",
    "for line in lines_list:\n",
    "    sentence = re.split('[^a-z]+', line\n",
    "                        .strip()\n",
    "                        .lower()\n",
    "                        )\n",
    "    sentence_list.append(sentence[:-1])\n",
    "words_dict = dict()\n",
    "word_index = 0"
   ]
  },
  {
   "cell_type": "code",
   "execution_count": 3,
   "metadata": {},
   "outputs": [],
   "source": [
    "for sentence in sentence_list:\n",
    "    for word in sentence:\n",
    "        if words_dict.get(word) is None:\n",
    "            words_dict[word] = word_index\n",
    "            word_index += 1\n",
    "\n",
    "sentence_list_length = len(sentence_list)\n",
    "words_dict_length = len(words_dict)\n",
    "matrix = np.zeros((\n",
    "    sentence_list_length,\n",
    "    words_dict_length\n",
    "))\n",
    "for i in range(sentence_list_length):\n",
    "    for word_in_dict, j in zip(words_dict, range(words_dict_length)):\n",
    "        for word_in_sentence in sentence_list[i]:\n",
    "            if word_in_sentence == word_in_dict:\n",
    "                matrix[i, j] += 1"
   ]
  },
  {
   "cell_type": "code",
   "execution_count": 4,
   "metadata": {},
   "outputs": [],
   "source": [
    "value_list = [2, 2]\n",
    "answer_list = [0, 0]\n",
    "first_row = matrix[0, :]\n",
    "for i in range(1, len(matrix)):\n",
    "    current_distance_value = distance.cosine(first_row, matrix[i, :])\n",
    "    if current_distance_value < value_list[1]:\n",
    "        if current_distance_value < value_list[0]:\n",
    "            value_list[1] = value_list[0]\n",
    "            value_list[0] = current_distance_value\n",
    "            answer_list[1] = answer_list[0]\n",
    "            answer_list[0] = i\n",
    "        else:\n",
    "            value_list[1] = current_distance_value\n",
    "            answer_list[1] = i"
   ]
  },
  {
   "cell_type": "code",
   "execution_count": 5,
   "metadata": {},
   "outputs": [],
   "source": [
    "def f(x):\n",
    "    return sc.sin(x / 5.0) * sc.exp(x / 10.) + 5 * sc.exp((-x) / 2.)"
   ]
  },
  {
   "cell_type": "code",
   "execution_count": 6,
   "metadata": {
    "scrolled": true
   },
   "outputs": [
    {
     "name": "stderr",
     "output_type": "stream",
     "text": [
      "/home/neighbourhood/anaconda3/lib/python3.7/site-packages/ipykernel_launcher.py:2: DeprecationWarning: scipy.sin is deprecated and will be removed in SciPy 2.0.0, use numpy.sin instead\n",
      "  \n",
      "/home/neighbourhood/anaconda3/lib/python3.7/site-packages/ipykernel_launcher.py:2: DeprecationWarning: scipy.exp is deprecated and will be removed in SciPy 2.0.0, use numpy.exp instead\n",
      "  \n"
     ]
    }
   ],
   "source": [
    "points_list = [1, 4, 10, 15]\n",
    "free_variables_list = list(map(f, points_list))\n",
    "\n",
    "xa = np.array([[1, 1, 1, 1], [1, 4, 16, 64], [1, 10, 100, 1000], [1, 15, 225, 3375]])\n",
    "ba = np.array(free_variables_list)\n",
    "w = linalg.solve(xa, ba)"
   ]
  },
  {
   "cell_type": "code",
   "execution_count": 7,
   "metadata": {},
   "outputs": [],
   "source": [
    "def new_f(x):\n",
    "    return w[0] + w[1] * x + w[2] * x**2 + w[3] * x**3"
   ]
  },
  {
   "cell_type": "code",
   "execution_count": 8,
   "metadata": {},
   "outputs": [
    {
     "name": "stderr",
     "output_type": "stream",
     "text": [
      "/home/neighbourhood/anaconda3/lib/python3.7/site-packages/ipykernel_launcher.py:2: DeprecationWarning: scipy.sin is deprecated and will be removed in SciPy 2.0.0, use numpy.sin instead\n",
      "  \n",
      "/home/neighbourhood/anaconda3/lib/python3.7/site-packages/ipykernel_launcher.py:2: DeprecationWarning: scipy.exp is deprecated and will be removed in SciPy 2.0.0, use numpy.exp instead\n",
      "  \n"
     ]
    },
    {
     "data": {
      "image/png": "[encoded data removed]",
      "text/plain": [
       "<Figure size 432x288 with 1 Axes>"
      ]
     },
     "metadata": {
      "needs_background": "light"
     },
     "output_type": "display_data"
    }
   ],
   "source": [
    "x = np.arange(1, 15, 0.01)\n",
    "plt.plot(x, f(x), '+', x, new_f(x), '-')\n",
    "plt.show()"
   ]
  },
  {
   "cell_type": "code",
   "execution_count": 9,
   "metadata": {},
   "outputs": [],
   "source": [
    "with open(\"submission-1.txt\", \"w\") as file:\n",
    "    file.write('{0[0]} {0[1]}'.format(answer_list))\n",
    "    file.close()\n",
    "    \n",
    "with open(\"submission-2.txt\", \"w\") as file:\n",
    "    file.write('{0[0]} {0[1]} {0[2]} {0[3]}'.format([round(item, 2) for item in w]))\n",
    "    file.close()"
   ]
  },
  {
   "cell_type": "code",
   "execution_count": null,
   "metadata": {},
   "outputs": [],
   "source": []
  }
 ],
 "metadata": {
  "kernelspec": {
   "display_name": "Python 3",
   "language": "python",
   "name": "python3"
  },
  "language_info": {
   "codemirror_mode": {
    "name": "ipython",
    "version": 3
   },
   "file_extension": ".py",
   "mimetype": "text/x-python",
   "name": "python",
   "nbconvert_exporter": "python",
   "pygments_lexer": "ipython3",
   "version": "3.7.4"
  }
 },
 "nbformat": 4,
 "nbformat_minor": 2
}
