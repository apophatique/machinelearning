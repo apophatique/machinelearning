{
 "cells": [
  {
   "cell_type": "code",
   "execution_count": null,
   "metadata": {},
   "outputs": [],
   "source": []
  },
  {
   "cell_type": "code",
   "execution_count": 1,
   "metadata": {},
   "outputs": [],
   "source": [
    "import scipy as sc\n",
    "from scipy import optimize\n",
    "import numpy as np\n",
    "from matplotlib import pylab as plt"
   ]
  },
  {
   "cell_type": "code",
   "execution_count": 2,
   "metadata": {},
   "outputs": [],
   "source": [
    "def f(x):\n",
    "    return sc.sin(x / 5.) * sc.exp(x / 10.) + 5 * sc.exp((-x) / 2.)\n",
    "\n",
    "\n",
    "def g(x):\n",
    "    return int(sc.sin(x / 5.) * sc.exp(x / 10.) + 5 * sc.exp((-x) / 2.))"
   ]
  },
  {
   "cell_type": "code",
   "execution_count": 3,
   "metadata": {},
   "outputs": [
    {
     "name": "stderr",
     "output_type": "stream",
     "text": [
      "/home/neighbourhood/anaconda3/lib/python3.7/site-packages/ipykernel_launcher.py:2: DeprecationWarning: scipy.sin is deprecated and will be removed in SciPy 2.0.0, use numpy.sin instead\n",
      "  \n",
      "/home/neighbourhood/anaconda3/lib/python3.7/site-packages/ipykernel_launcher.py:2: DeprecationWarning: scipy.exp is deprecated and will be removed in SciPy 2.0.0, use numpy.exp instead\n",
      "  \n"
     ]
    }
   ],
   "source": [
    "first_task_answer = list()\n",
    "first_task_answer.append(optimize.minimize(f, np.array([2]), method='BFGS').fun)\n",
    "first_task_answer.append(optimize.minimize(f, np.array([30]), method='BFGS').fun)\n",
    "\n",
    "second_task_answer = optimize.differential_evolution(f, [(1, 30)]).fun"
   ]
  },
  {
   "cell_type": "code",
   "execution_count": 4,
   "metadata": {},
   "outputs": [
    {
     "name": "stderr",
     "output_type": "stream",
     "text": [
      "/home/neighbourhood/anaconda3/lib/python3.7/site-packages/ipykernel_launcher.py:2: DeprecationWarning: scipy.sin is deprecated and will be removed in SciPy 2.0.0, use numpy.sin instead\n",
      "  \n",
      "/home/neighbourhood/anaconda3/lib/python3.7/site-packages/ipykernel_launcher.py:2: DeprecationWarning: scipy.exp is deprecated and will be removed in SciPy 2.0.0, use numpy.exp instead\n",
      "  \n"
     ]
    },
    {
     "data": {
      "image/png": "[encoded data removed]",
      "text/plain": [
       "<Figure size 432x288 with 1 Axes>"
      ]
     },
     "metadata": {
      "needs_background": "light"
     },
     "output_type": "display_data"
    },
    {
     "name": "stdout",
     "output_type": "stream",
     "text": [
      "[-5, -11.0]\n"
     ]
    },
    {
     "name": "stderr",
     "output_type": "stream",
     "text": [
      "/home/neighbourhood/anaconda3/lib/python3.7/site-packages/ipykernel_launcher.py:6: DeprecationWarning: scipy.sin is deprecated and will be removed in SciPy 2.0.0, use numpy.sin instead\n",
      "  \n",
      "/home/neighbourhood/anaconda3/lib/python3.7/site-packages/ipykernel_launcher.py:6: DeprecationWarning: scipy.exp is deprecated and will be removed in SciPy 2.0.0, use numpy.exp instead\n",
      "  \n"
     ]
    }
   ],
   "source": [
    "x = np.arange(1, 30, 0.01)\n",
    "plt.plot(x, f(x), '+', x, [int(item) for item in f(x)], '-')\n",
    "plt.show()\n",
    "third_task_answer = list()\n",
    "third_task_answer.append(optimize.minimize(g, np.array([30]), method='BFGS').fun)\n",
    "third_task_answer.append(optimize.differential_evolution(g, [(1, 30)]).fun)\n",
    "print(third_task_answer)\n",
    "answer = [first_task_answer, second_task_answer, third_task_answer]"
   ]
  },
  {
   "cell_type": "code",
   "execution_count": 5,
   "metadata": {},
   "outputs": [],
   "source": [
    "for i in range(1, 3):\n",
    "    with open(\"submission{0}.txt\".format(i), \"w\") as submission:\n",
    "        if i == 1:\n",
    "            string = \"{0[0]} {0[1]}\"\n",
    "        else:\n",
    "            string = \"{0[0]}\"\n",
    "        submission.write(string.format(\n",
    "            [round(item, 2) for item in answer[i-1]]\n",
    "        ))\n",
    "        submission.close()\n",
    "\n",
    "with open(\"submission3.txt\", \"w\") as submission:\n",
    "    submission.write(\"-5 -11.0\")\n",
    "    submission.close()"
   ]
  }
 ],
 "metadata": {
  "kernelspec": {
   "display_name": "Python 3",
   "language": "python",
   "name": "python3"
  },
  "language_info": {
   "codemirror_mode": {
    "name": "ipython",
    "version": 3
   },
   "file_extension": ".py",
   "mimetype": "text/x-python",
   "name": "python",
   "nbconvert_exporter": "python",
   "pygments_lexer": "ipython3",
   "version": "3.7.4"
  }
 },
 "nbformat": 4,
 "nbformat_minor": 2
}
