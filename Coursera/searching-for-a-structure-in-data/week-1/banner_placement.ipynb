{
 "cells": [
  {
   "cell_type": "code",
   "execution_count": 3,
   "metadata": {},
   "outputs": [],
   "source": [
    "import csv\n",
    "import numpy as np\n",
    "import pandas as pd\n",
    "from sklearn.cluster import MeanShift"
   ]
  },
  {
   "cell_type": "code",
   "execution_count": 4,
   "metadata": {},
   "outputs": [],
   "source": [
    "with open('checkins.dat') as dat_file, open('checkins.csv', 'w') as csv_file:\n",
    "    csv_writer = csv.writer(csv_file)ых \n",
    "\n",
    "    for line in dat_file:\n",
    "        row = [field.strip() for field in line.split('|')]\n",
    "        if len(row) == 6 and row[3] and row[4]:\n",
    "            csv_writer.writerow(row)"
   ]
  },
  {
   "cell_type": "code",
   "execution_count": 5,
   "metadata": {},
   "outputs": [
    {
     "data": {
      "text/plain": [
       "(100000, 2)"
      ]
     },
     "execution_count": 5,
     "metadata": {},
     "output_type": "execute_result"
    }
   ],
   "source": [
    "data = pd.read_csv('checkins.csv')\n",
    "data = data.iloc[:100000, :].loc[:, ['latitude', 'longitude']]\n",
    "data.shape"
   ]
  },
  {
   "cell_type": "code",
   "execution_count": 6,
   "metadata": {},
   "outputs": [
    {
     "data": {
      "text/plain": [
       "MeanShift(bandwidth=0.1, bin_seeding=False, cluster_all=True, min_bin_freq=1,\n",
       "          n_jobs=None, seeds=None)"
      ]
     },
     "execution_count": 6,
     "metadata": {},
     "output_type": "execute_result"
    }
   ],
   "source": [
    "model = MeanShift(bandwidth=0.1)\n",
    "model.fit(data)"
   ]
  },
  {
   "cell_type": "code",
   "execution_count": 18,
   "metadata": {},
   "outputs": [
    {
     "name": "stdout",
     "output_type": "stream",
     "text": [
      "[   0    1    2 ... 3228 3229 3230] [12506  4692  3994 ...     1     1     1]\n"
     ]
    }
   ],
   "source": [
    "labels = model.labels_\n",
    "clusters_centers = model.cluster_centers_\n",
    "\n",
    "labels_index, labels_counts = np.unique(labels, return_counts = True)\n",
    "print(labels_index, labels_counts)"
   ]
  },
  {
   "cell_type": "code",
   "execution_count": 20,
   "metadata": {},
   "outputs": [],
   "source": [
    "labels_unique_more = list()\n",
    "for index, count in enumerate(labels_counts):\n",
    "    if count > 15:\n",
    "        labels_unique_more.append(labels[index])\n",
    "clusters_centers_more = np.empty( (len(labels_unique_more), 2) )\n",
    "for index, value in enumerate(labels_unique_more):\n",
    "    clusters_centers_more[index] = clusters_centers[value]"
   ]
  },
  {
   "cell_type": "code",
   "execution_count": 10,
   "metadata": {},
   "outputs": [
    {
     "data": {
      "text/html": [
       "<div>\n",
       "<style scoped>\n",
       "    .dataframe tbody tr th:only-of-type {\n",
       "        vertical-align: middle;\n",
       "    }\n",
       "\n",
       "    .dataframe tbody tr th {\n",
       "        vertical-align: top;\n",
       "    }\n",
       "\n",
       "    .dataframe thead th {\n",
       "        text-align: right;\n",
       "    }\n",
       "</style>\n",
       "<table border=\"1\" class=\"dataframe\">\n",
       "  <thead>\n",
       "    <tr style=\"text-align: right;\">\n",
       "      <th></th>\n",
       "      <th>latitude</th>\n",
       "      <th>longitude</th>\n",
       "    </tr>\n",
       "  </thead>\n",
       "  <tbody>\n",
       "    <tr>\n",
       "      <td>0</td>\n",
       "      <td>33.751277</td>\n",
       "      <td>-118.188740</td>\n",
       "    </tr>\n",
       "    <tr>\n",
       "      <td>1</td>\n",
       "      <td>25.867736</td>\n",
       "      <td>-80.324116</td>\n",
       "    </tr>\n",
       "    <tr>\n",
       "      <td>2</td>\n",
       "      <td>51.503016</td>\n",
       "      <td>-0.075479</td>\n",
       "    </tr>\n",
       "    <tr>\n",
       "      <td>3</td>\n",
       "      <td>52.378894</td>\n",
       "      <td>4.885084</td>\n",
       "    </tr>\n",
       "    <tr>\n",
       "      <td>4</td>\n",
       "      <td>39.366487</td>\n",
       "      <td>117.036146</td>\n",
       "    </tr>\n",
       "    <tr>\n",
       "      <td>5</td>\n",
       "      <td>-33.868457</td>\n",
       "      <td>151.205134</td>\n",
       "    </tr>\n",
       "  </tbody>\n",
       "</table>\n",
       "</div>"
      ],
      "text/plain": [
       "    latitude   longitude\n",
       "0  33.751277 -118.188740\n",
       "1  25.867736  -80.324116\n",
       "2  51.503016   -0.075479\n",
       "3  52.378894    4.885084\n",
       "4  39.366487  117.036146\n",
       "5 -33.868457  151.205134"
      ]
     },
     "execution_count": 10,
     "metadata": {},
     "output_type": "execute_result"
    }
   ],
   "source": [
    "offices = pd.read_csv('centers.txt', skipinitialspace=True)\n",
    "offices_for_dist = offices.loc[:, ['latitude', 'longitude']]\n",
    "offices_for_dist"
   ]
  },
  {
   "cell_type": "code",
   "execution_count": 11,
   "metadata": {},
   "outputs": [],
   "source": [
    "def distance(x, y):\n",
    "    return np.sqrt(np.sum((x-y)**2))"
   ]
  },
  {
   "cell_type": "code",
   "execution_count": 45,
   "metadata": {},
   "outputs": [],
   "source": [
    "distances_from_nearest_office = np.empty( clusters_centers_more.shape[0] )\n",
    "for i, item in enumerate(clusters_centers_more):\n",
    "    min_dist = distance(item, offices_for_dist.loc[0])\n",
    "    for j in range(len(offices)):\n",
    "        dist = distance(item, offices_for_dist.loc[j])\n",
    "        if dist < min_dist:\n",
    "            min_dist = dist\n",
    "    distances_from_nearest_office[i] = min_dist"
   ]
  },
  {
   "cell_type": "code",
   "execution_count": 71,
   "metadata": {},
   "outputs": [],
   "source": [
    "dist_sorted_indices = np.argsort(distances_from_nearest_office)\n",
    "distances_from_nearest_office_sorted = distances_from_nearest_office[dist_sorted_indices]\n",
    "clusters_centers_more_sorted = clusters_centers_more[dist_sorted_indices]"
   ]
  },
  {
   "cell_type": "code",
   "execution_count": 72,
   "metadata": {},
   "outputs": [
    {
     "name": "stdout",
     "output_type": "stream",
     "text": [
      "Minimal distance: 0.007835\n",
      "Coordinates of closest centroid: [-33.86063043 151.20477593]\n"
     ]
    }
   ],
   "source": [
    "print('Minimal distance: %f' % distances_from_nearest_office_sorted[0])\n",
    "print('Coordinates of closest centroid: %s' % str(clusters_centers_more_sorted[0]))"
   ]
  },
  {
   "cell_type": "code",
   "execution_count": 73,
   "metadata": {},
   "outputs": [],
   "source": [
    "answer = str(cluster_centers_more_sorted[0, 0]) + ' ' + str(cluster_centers_more_sorted[0, 1])\n",
    "with open('answer.txt', 'w') as fout:\n",
    "    fout.write(answer)"
   ]
  },
  {
   "cell_type": "code",
   "execution_count": null,
   "metadata": {},
   "outputs": [],
   "source": []
  }
 ],
 "metadata": {
  "kernelspec": {
   "display_name": "Python 3",
   "language": "python",
   "name": "python3"
  },
  "language_info": {
   "codemirror_mode": {
    "name": "ipython",
    "version": 3
   },
   "file_extension": ".py",
   "mimetype": "text/x-python",
   "name": "python",
   "nbconvert_exporter": "python",
   "pygments_lexer": "ipython3",
   "version": "3.7.4"
  }
 },
 "nbformat": 4,
 "nbformat_minor": 2
}
