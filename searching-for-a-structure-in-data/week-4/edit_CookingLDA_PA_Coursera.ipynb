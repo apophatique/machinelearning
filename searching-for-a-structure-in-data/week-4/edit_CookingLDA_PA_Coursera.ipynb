{
 "cells": [
  {
   "cell_type": "markdown",
   "metadata": {},
   "source": [
    "# Programming Assignment: \n",
    "## Готовим LDA по рецептам"
   ]
  },
  {
   "cell_type": "markdown",
   "metadata": {},
   "source": [
    "Как вы уже знаете, в тематическом моделировании делается предположение о том, что для определения тематики порядок слов в документе не важен; об этом гласит гипотеза «мешка слов». Сегодня мы будем работать с несколько нестандартной для тематического моделирования коллекцией, которую можно назвать «мешком ингредиентов», потому что на состоит из рецептов блюд разных кухонь. Тематические модели ищут слова, которые часто вместе встречаются в документах, и составляют из них темы. Мы попробуем применить эту идею к рецептам и найти кулинарные «темы». Эта коллекция хороша тем, что не требует предобработки. Кроме того, эта задача достаточно наглядно иллюстрирует принцип работы тематических моделей.\n",
    "\n",
    "Для выполнения заданий, помимо часто используемых в курсе библиотек, потребуются модули *json* и *gensim*. Первый входит в дистрибутив Anaconda, второй можно поставить командой \n",
    "\n",
    "*pip install gensim*\n",
    "\n",
    "Построение модели занимает некоторое время. На ноутбуке с процессором Intel Core i7 и тактовой частотой 2400 МГц на построение одной модели уходит менее 10 минут."
   ]
  },
  {
   "cell_type": "markdown",
   "metadata": {},
   "source": [
    "### Загрузка данных"
   ]
  },
  {
   "cell_type": "markdown",
   "metadata": {},
   "source": [
    "Коллекция дана в json-формате: для каждого рецепта известны его id, кухня (cuisine) и список ингредиентов, в него входящих. Загрузить данные можно с помощью модуля json (он входит в дистрибутив Anaconda):"
   ]
  },
  {
   "cell_type": "code",
   "execution_count": 1,
   "metadata": {},
   "outputs": [],
   "source": [
    "import json"
   ]
  },
  {
   "cell_type": "code",
   "execution_count": 2,
   "metadata": {},
   "outputs": [],
   "source": [
    "with open(\"recipes.json\") as f:\n",
    "    recipes = json.load(f)"
   ]
  },
  {
   "cell_type": "code",
   "execution_count": 3,
   "metadata": {},
   "outputs": [
    {
     "name": "stdout",
     "output_type": "stream",
     "text": [
      "{'id': 10259, 'cuisine': 'greek', 'ingredients': ['romaine lettuce', 'black olives', 'grape tomatoes', 'garlic', 'pepper', 'purple onion', 'seasoning', 'garbanzo beans', 'feta cheese crumbles']}\n"
     ]
    }
   ],
   "source": [
    "print(recipes[0])"
   ]
  },
  {
   "cell_type": "markdown",
   "metadata": {},
   "source": [
    "### Составление корпуса"
   ]
  },
  {
   "cell_type": "code",
   "execution_count": 4,
   "metadata": {},
   "outputs": [],
   "source": [
    "from gensim import corpora, models\n",
    "import numpy as np"
   ]
  },
  {
   "cell_type": "markdown",
   "metadata": {},
   "source": [
    "Наша коллекция небольшая, и целиком помещается в оперативную память. Gensim может работать с такими данными и не требует их сохранения на диск в специальном формате. Для этого коллекция должна быть представлена в виде списка списков, каждый внутренний список соответствует отдельному документу и состоит из его слов. Пример коллекции из двух документов: \n",
    "\n",
    "[[\"hello\", \"world\"], [\"programming\", \"in\", \"python\"]]\n",
    "\n",
    "Преобразуем наши данные в такой формат, а затем создадим объекты corpus и dictionary, с которыми будет работать модель."
   ]
  },
  {
   "cell_type": "code",
   "execution_count": 5,
   "metadata": {},
   "outputs": [],
   "source": [
    "texts = [recipe[\"ingredients\"] for recipe in recipes]\n",
    "dictionary = corpora.Dictionary(texts)   # составляем словарь\n",
    "corpus = [dictionary.doc2bow(text) for text in texts]  # составляем корпус документов"
   ]
  },
  {
   "cell_type": "code",
   "execution_count": 39,
   "metadata": {},
   "outputs": [
    {
     "name": "stdout",
     "output_type": "stream",
     "text": [
      "['romaine lettuce', 'black olives', 'grape tomatoes', 'garlic', 'pepper', 'purple onion', 'seasoning', 'garbanzo beans', 'feta cheese crumbles']\n",
      "[(0, 1), (1, 1), (2, 1), (3, 1), (4, 1), (5, 1), (6, 1), (7, 1), (8, 1)]\n"
     ]
    }
   ],
   "source": [
    "print(texts[0])\n",
    "print(corpus[0])"
   ]
  },
  {
   "cell_type": "markdown",
   "metadata": {},
   "source": [
    "У объекта dictionary есть полезная переменная dictionary.token2id, позволяющая находить соответствие между ингредиентами и их индексами."
   ]
  },
  {
   "cell_type": "markdown",
   "metadata": {},
   "source": [
    "### Обучение модели\n",
    "Вам может понадобиться [документация](https://radimrehurek.com/gensim/models/ldamodel.html) LDA в gensim."
   ]
  },
  {
   "cell_type": "markdown",
   "metadata": {},
   "source": [
    "__Задание 1.__ Обучите модель LDA с 40 темами, установив количество проходов по коллекции 5 и оставив остальные параметры по умолчанию. \n",
    "\n",
    "\n",
    "Затем вызовите метод модели *show_topics*, указав количество тем 40 и количество токенов 10, и сохраните результат (топы ингредиентов в темах) в отдельную переменную. Если при вызове метода *show_topics* указать параметр *formatted=True*, то топы ингредиентов будет удобно выводить на печать, если *formatted=False*, будет удобно работать со списком программно. Выведите топы на печать, рассмотрите темы, а затем ответьте на вопрос:\n",
    "\n",
    "Сколько раз ингредиенты \"salt\", \"sugar\", \"water\", \"mushrooms\", \"chicken\", \"eggs\" встретились среди топов-10 всех 40 тем? При ответе __не нужно__ учитывать составные ингредиенты, например, \"hot water\".\n",
    "\n",
    "Передайте 6 чисел в функцию save_answers1 и загрузите сгенерированный файл в форму.\n",
    "\n",
    "У gensim нет возможности фиксировать случайное приближение через параметры метода, но библиотека использует numpy для инициализации матриц. Поэтому, по утверждению автора библиотеки, фиксировать случайное приближение нужно командой, которая написана в следующей ячейке. __Перед строкой кода с построением модели обязательно вставляйте указанную строку фиксации random.seed.__"
   ]
  },
  {
   "cell_type": "code",
   "execution_count": 169,
   "metadata": {},
   "outputs": [],
   "source": [
    "np.random.seed(76543)\n",
    "ldamodel = models.ldamodel.LdaModel(corpus, \n",
    "                                    id2word=dictionary,\n",
    "                                    num_topics=40, \n",
    "                                    passes=5)"
   ]
  },
  {
   "cell_type": "code",
   "execution_count": 227,
   "metadata": {},
   "outputs": [],
   "source": [
    "topics = ldamodel.show_topics(num_topics=40, num_words=10, formatted=False)"
   ]
  },
  {
   "cell_type": "code",
   "execution_count": 247,
   "metadata": {},
   "outputs": [],
   "source": [
    "ingridients_dict = {'salt': 0, \n",
    "                    'sugar': 0, \n",
    "                    'water': 0, \n",
    "                    'mushrooms': 0, \n",
    "                    'chicken': 0, \n",
    "                    'eggs': 0\n",
    "                   }\n",
    "for key in ingridients_dict.keys():\n",
    "    for topic in topics:\n",
    "        for pair in topic[1]:\n",
    "            if pair[0] == key:\n",
    "                ingridients_dict[key]+=1\n",
    "            \n",
    "save_answers1([value for key, value in ingridients_dict.items()])"
   ]
  },
  {
   "cell_type": "code",
   "execution_count": 248,
   "metadata": {},
   "outputs": [],
   "source": [
    "def save_answers1(c_list):\n",
    "    with open(\"cooking_LDA_pa_task1.txt\", \"w\") as fout:\n",
    "        fout.write(\" \".join([str(el) for el in c_list]))"
   ]
  },
  {
   "cell_type": "code",
   "execution_count": 246,
   "metadata": {
    "scrolled": true
   },
   "outputs": [
    {
     "name": "stdout",
     "output_type": "stream",
     "text": [
      "chopped onion\n",
      "garlic cloves\n",
      "salt\n",
      "fat free less sodium chicken broth\n",
      "sliced green onions\n",
      "cooking spray\n",
      "ground red pepper\n",
      "water\n",
      "spinach\n",
      "black pepper\n",
      "corn kernels\n",
      "diced onions\n",
      "tortillas\n",
      "vegetable stock\n",
      "chopped fresh chives\n",
      "sliced black olives\n",
      "cream cheese, soften\n",
      "lard\n",
      "jack cheese\n",
      "canned black beans\n",
      "olive oil\n",
      "crushed red pepper\n",
      "fresh parsley\n",
      "garlic cloves\n",
      "grated parmesan cheese\n",
      "cherry tomatoes\n",
      "butter\n",
      "salt\n",
      "low salt chicken broth\n",
      "fresh rosemary\n",
      "bacon\n",
      "salt\n",
      "red pepper flakes\n",
      "onions\n",
      "garlic\n",
      "ground black pepper\n",
      "mushrooms\n",
      "chicken thighs\n",
      "pasta\n",
      "olive oil\n",
      "cooking spray\n",
      "salt\n",
      "powdered sugar\n",
      "large egg whites\n",
      "all-purpose flour\n",
      "sugar\n",
      "large eggs\n",
      "cream cheese\n",
      "yellow corn meal\n",
      "butter\n",
      "large garlic cloves\n",
      "shallots\n",
      "dry white wine\n",
      "olive oil\n",
      "finely chopped onion\n",
      "unsalted butter\n",
      "salt\n",
      "white wine vinegar\n",
      "arborio rice\n",
      "saffron threads\n",
      "fresh thyme\n",
      "dry red wine\n",
      "pork tenderloin\n",
      "reduced sodium soy sauce\n",
      "cilantro sprigs\n",
      "beef broth\n",
      "peppercorns\n",
      "cremini mushrooms\n",
      "rosemary\n",
      "daikon\n",
      "soy sauce\n",
      "sesame oil\n",
      "scallions\n",
      "green onions\n",
      "rice vinegar\n",
      "sugar\n",
      "corn starch\n",
      "garlic\n",
      "vegetable oil\n",
      "fresh ginger\n",
      "garlic powder\n",
      "cayenne pepper\n",
      "onion powder\n",
      "ground black pepper\n",
      "smoked paprika\n",
      "black pepper\n",
      "pinenuts\n",
      "salt\n",
      "fresh spinach\n",
      "dried oregano\n",
      "extra-virgin olive oil\n",
      "garlic cloves\n",
      "fresh lemon juice\n",
      "salt\n",
      "olive oil\n",
      "ground black pepper\n",
      "plum tomatoes\n",
      "purple onion\n",
      "balsamic vinegar\n",
      "fresh basil\n",
      "broccoli florets\n",
      "button mushrooms\n",
      "crème fraîche\n",
      "yellow squash\n",
      "radishes\n",
      "greek style plain yogurt\n",
      "pork sausages\n",
      "watercress\n",
      "quickcooking grits\n",
      "ripe olives\n",
      "lime\n",
      "lime juice\n",
      "fresh cilantro\n",
      "chopped cilantro\n",
      "purple onion\n",
      "mango\n",
      "garlic\n",
      "jalapeno chilies\n",
      "lime wedges\n",
      "thai chile\n",
      "cheese\n",
      "ricotta cheese\n",
      "orange juice\n",
      "sliced mushrooms\n",
      "baby spinach\n",
      "vegetable broth\n",
      "vegetable oil cooking spray\n",
      "frozen chopped spinach\n",
      "part-skim mozzarella cheese\n",
      "italian sausage\n",
      "diced tomatoes\n",
      "onions\n",
      "dried oregano\n",
      "tomato sauce\n",
      "garlic\n",
      "tomato paste\n",
      "salt\n",
      "olive oil\n",
      "crushed tomatoes\n",
      "ground beef\n",
      "tomatoes\n",
      "salt\n",
      "red wine vinegar\n",
      "olive oil\n",
      "cucumber\n",
      "pepper\n",
      "lemon juice\n",
      "fresh oregano\n",
      "purple onion\n",
      "garlic\n",
      "lemon\n",
      "orange\n",
      "boiling water\n",
      "fine sea salt\n",
      "sugar\n",
      "cold water\n",
      "fennel seeds\n",
      "almonds\n",
      "water\n",
      "mint\n",
      "chopped cilantro fresh\n",
      "fresh lime juice\n",
      "jalapeno chilies\n",
      "white onion\n",
      "salt\n",
      "avocado\n",
      "ground cumin\n",
      "garlic cloves\n",
      "vegetable oil\n",
      "cilantro leaves\n",
      "ground ginger\n",
      "ground cinnamon\n",
      "raisins\n",
      "ground cloves\n",
      "white wine\n",
      "ground allspice\n",
      "fresh mushrooms\n",
      "lean ground beef\n",
      "dried rosemary\n",
      "iceberg lettuce\n",
      "parmesan cheese\n",
      "warm water\n",
      "salt\n",
      "olive oil\n",
      "dried basil\n",
      "grits\n",
      "kale\n",
      "plain flour\n",
      "water\n",
      "dry yeast\n",
      "unsalted butter\n",
      "large eggs\n",
      "all-purpose flour\n",
      "salt\n",
      "sugar\n",
      "whole milk\n",
      "granulated sugar\n",
      "baking powder\n",
      "large egg yolks\n",
      "buttermilk\n",
      "flat leaf parsley\n",
      "freshly ground pepper\n",
      "extra-virgin olive oil\n",
      "garlic cloves\n",
      "large shrimp\n",
      "olive oil\n",
      "salt\n",
      "dry bread crumbs\n",
      "ground black pepper\n",
      "kosher salt\n",
      "chicken broth\n",
      "green bell pepper\n",
      "boneless skinless chicken breast halves\n",
      "boneless skinless chicken breasts\n",
      "onions\n",
      "chicken breasts\n",
      "red bell pepper\n",
      "butter\n",
      "pepper\n",
      "salt\n",
      "grated parmesan cheese\n",
      "olive oil\n",
      "zucchini\n",
      "salt\n",
      "garlic\n",
      "mozzarella cheese\n",
      "shredded mozzarella cheese\n",
      "eggplant\n",
      "pepper\n",
      "eggs\n",
      "brown sugar\n",
      "water\n",
      "salt\n",
      "soy sauce\n",
      "white pepper\n",
      "oil\n",
      "sugar\n",
      "sauce\n",
      "ketchup\n",
      "garlic\n",
      "ground cumin\n",
      "ground coriander\n",
      "salt\n",
      "curry powder\n",
      "onions\n",
      "garlic\n",
      "vegetable oil\n",
      "ground turmeric\n",
      "garlic cloves\n",
      "fresh ginger\n",
      "hot water\n",
      "chopped garlic\n",
      "peanut oil\n",
      "rice wine\n",
      "hot red pepper flakes\n",
      "corn oil\n",
      "fontina cheese\n",
      "marsala wine\n",
      "seasoning\n",
      "garlic chili sauce\n",
      "mirin\n",
      "chickpeas\n",
      "red pepper\n",
      "mint leaves\n",
      "juice\n",
      "chopped fresh mint\n",
      "sugar\n",
      "fresh coriander\n",
      "sake\n",
      "grated lemon zest\n",
      "heavy cream\n",
      "cheddar cheese\n",
      "frozen peas\n",
      "grated nutmeg\n",
      "bananas\n",
      "bread\n",
      "ice\n",
      "adobo sauce\n",
      "old bay seasoning\n",
      "butter\n",
      "oil\n",
      "salt\n",
      "cilantro leaves\n",
      "green chilies\n",
      "cumin seed\n",
      "onions\n",
      "ground turmeric\n",
      "water\n",
      "chili powder\n",
      "tomatoes\n",
      "sour cream\n",
      "salsa\n",
      "flour tortillas\n",
      "chili powder\n",
      "corn tortillas\n",
      "shredded cheddar cheese\n",
      "black beans\n",
      "cilantro\n",
      "salt\n",
      "ground cumin\n",
      "sugar\n",
      "whipping cream\n",
      "egg yolks\n",
      "vanilla extract\n",
      "butter\n",
      "egg whites\n",
      "half & half\n",
      "sweetened condensed milk\n",
      "water\n",
      "strawberries\n",
      "shrimp\n",
      "medium shrimp\n",
      "long-grain rice\n",
      "vegetable oil\n",
      "green onions\n",
      "long grain white rice\n",
      "rice noodles\n",
      "hot pepper sauce\n",
      "scallions\n",
      "asian fish sauce\n",
      "eggs\n",
      "milk\n",
      "salt\n",
      "butter\n",
      "all-purpose flour\n",
      "flour\n",
      "baking powder\n",
      "sugar\n",
      "white sugar\n",
      "water\n",
      "rice\n",
      "coriander\n",
      "onions\n",
      "salt\n",
      "garam masala\n",
      "ginger\n",
      "tumeric\n",
      "cabbage\n",
      "garlic\n",
      "ghee\n",
      "cinnamon sticks\n",
      "clove\n",
      "black peppercorns\n",
      "chopped tomatoes\n",
      "cream\n",
      "garlic paste\n",
      "yoghurt\n",
      "coriander seeds\n",
      "fresh dill\n",
      "onions\n",
      "onions\n",
      "bay leaves\n",
      "celery\n",
      "salt\n",
      "dried thyme\n",
      "bay leaf\n",
      "carrots\n",
      "water\n",
      "garlic\n",
      "ground black pepper\n",
      "salt\n",
      "pepper\n",
      "paprika\n",
      "onions\n",
      "potatoes\n",
      "butter\n",
      "garlic\n",
      "olive oil\n",
      "worcestershire sauce\n",
      "carrots\n",
      "sea salt\n",
      "coarse salt\n",
      "crushed red pepper flakes\n",
      "extra-virgin olive oil\n",
      "ground black pepper\n",
      "celery ribs\n",
      "ground pepper\n",
      "kosher salt\n",
      "garlic cloves\n",
      "parmigiano reggiano cheese\n",
      "fish sauce\n",
      "coconut milk\n",
      "garlic\n",
      "shallots\n",
      "red chili peppers\n",
      "lemongrass\n",
      "sugar\n",
      "vegetable oil\n",
      "boneless chicken skinless thigh\n",
      "cooking oil\n",
      "mayonaise\n",
      "dijon mustard\n",
      "cider vinegar\n",
      "cracked black pepper\n",
      "roma tomatoes\n",
      "white rice\n",
      "lemon wedge\n",
      "romaine lettuce\n",
      "chicken wings\n",
      "green onions\n"
     ]
    }
   ],
   "source": [
    "for topic in topics:\n",
    "    for pair in topic[1]:\n",
    "        print(pair[0])"
   ]
  },
  {
   "cell_type": "markdown",
   "metadata": {},
   "source": [
    "### Фильтрация словаря\n",
    "В топах тем гораздо чаще встречаются первые три рассмотренных ингредиента, чем последние три. При этом наличие в рецепте курицы, яиц и грибов яснее дает понять, что мы будем готовить, чем наличие соли, сахара и воды. Таким образом, даже в рецептах есть слова, часто встречающиеся в текстах и не несущие смысловой нагрузки, и поэтому их не желательно видеть в темах. Наиболее простой прием борьбы с такими фоновыми элементами — фильтрация словаря по частоте. Обычно словарь фильтруют с двух сторон: убирают очень редкие слова (в целях экономии памяти) и очень частые слова (в целях повышения интерпретируемости тем). Мы уберем только частые слова."
   ]
  },
  {
   "cell_type": "code",
   "execution_count": 31,
   "metadata": {},
   "outputs": [],
   "source": [
    "import copy\n",
    "dictionary2 = copy.deepcopy(dictionary)"
   ]
  },
  {
   "cell_type": "markdown",
   "metadata": {},
   "source": [
    "__Задание 2.__ У объекта dictionary2 есть переменная *dfs* — это словарь, ключами которого являются id токена, а элементами — число раз, сколько слово встретилось во всей коллекции. Сохраните в отдельный список ингредиенты, которые встретились в коллекции больше 4000 раз. Вызовите метод словаря *filter_tokens*, подав в качестве первого аргумента полученный список популярных ингредиентов. Вычислите две величины: dict_size_before и dict_size_after — размер словаря до и после фильтрации.\n",
    "\n",
    "Затем, используя новый словарь, создайте новый корпус документов, corpus2, по аналогии с тем, как это сделано в начале ноутбука. Вычислите две величины: corpus_size_before и corpus_size_after — суммарное количество ингредиентов в корпусе (для каждого документа вычислите число различных ингредиентов в нем и просуммируйте по всем документам) до и после фильтрации.\n",
    "\n",
    "Передайте величины dict_size_before, dict_size_after, corpus_size_before, corpus_size_after в функцию save_answers2 и загрузите сгенерированный файл в форму."
   ]
  },
  {
   "cell_type": "code",
   "execution_count": 32,
   "metadata": {},
   "outputs": [],
   "source": [
    "dict_size_before = len(dictionary2)\n",
    "\n",
    "frequent_words_list = list()\n",
    "for key, value in dictionary2.dfs.items():\n",
    "    if value > 4000:\n",
    "        frequent_words_list.append(key)\n",
    "dictionary2.filter_tokens(frequent_words_list)\n",
    "\n",
    "dict_size_after = len(dictionary2)"
   ]
  },
  {
   "cell_type": "code",
   "execution_count": 49,
   "metadata": {},
   "outputs": [],
   "source": [
    "corpus2 = [dictionary2.doc2bow(text) for text in texts]  # составляем корпус документов\n",
    "\n",
    "corpus_size_before = sum(len(doc) for doc in corpus)\n",
    "corpus_size_after = sum(len(doc) for doc in corpus2)"
   ]
  },
  {
   "cell_type": "code",
   "execution_count": 50,
   "metadata": {},
   "outputs": [
    {
     "name": "stdout",
     "output_type": "stream",
     "text": [
      "428249 343665\n"
     ]
    }
   ],
   "source": [
    "print(corpus_size_before, corpus_size_after)"
   ]
  },
  {
   "cell_type": "code",
   "execution_count": 51,
   "metadata": {},
   "outputs": [],
   "source": [
    "save_answers2(dict_size_before, \n",
    "              dict_size_after, \n",
    "              corpus_size_before, \n",
    "              corpus_size_after)"
   ]
  },
  {
   "cell_type": "code",
   "execution_count": 11,
   "metadata": {},
   "outputs": [],
   "source": [
    "def save_answers2(dict_size_before, dict_size_after, corpus_size_before, corpus_size_after):\n",
    "    with open(\"cooking_LDA_pa_task2.txt\", \"w\") as fout:\n",
    "        fout.write(\" \".join([str(el) for el in [dict_size_before, dict_size_after, corpus_size_before, corpus_size_after]]))"
   ]
  },
  {
   "cell_type": "markdown",
   "metadata": {},
   "source": [
    "### Сравнение когерентностей\n",
    "__Задание 3.__ Постройте еще одну модель по корпусу corpus2 и словарю dictionary2, остальные параметры оставьте такими же, как при первом построении модели. Сохраните новую модель в другую переменную (не перезаписывайте предыдущую модель). Не забудьте про фиксирование seed!\n",
    "\n",
    "Затем воспользуйтесь методом *top_topics* модели, чтобы вычислить ее когерентность. Передайте в качестве аргумента соответствующий модели корпус. Метод вернет список кортежей (топ токенов, когерентность), отсортированных по убыванию последней. Вычислите среднюю по всем темам когерентность для каждой из двух моделей и передайте в функцию save_answers3. "
   ]
  },
  {
   "cell_type": "code",
   "execution_count": 180,
   "metadata": {},
   "outputs": [],
   "source": [
    "np.random.seed(76543)\n",
    "# здесь код для построения модели:\n",
    "ldamodel2 = models.ldamodel.LdaModel(corpus2, \n",
    "                                     id2word=dictionary2, \n",
    "                                     num_topics=40, \n",
    "                                     passes=5)"
   ]
  },
  {
   "cell_type": "code",
   "execution_count": 185,
   "metadata": {},
   "outputs": [],
   "source": [
    "topics = ldamodel.top_topics(corpus)\n",
    "topics2 = ldamodel2.top_topics(corpus2)\n",
    "\n",
    "coherence = np.array([topic[1] for topic in topics]).mean()\n",
    "coherence2 = np.array([topic[1] for topic in topics2]).mean()"
   ]
  },
  {
   "cell_type": "code",
   "execution_count": 186,
   "metadata": {},
   "outputs": [],
   "source": [
    "save_answers3(coherence, coherence2)"
   ]
  },
  {
   "cell_type": "code",
   "execution_count": 187,
   "metadata": {},
   "outputs": [],
   "source": [
    "def save_answers3(coherence, coherence2):\n",
    "    with open(\"cooking_LDA_pa_task3.txt\", \"w\") as fout:\n",
    "        fout.write(\" \".join([\"%3f\"%el for el in [coherence, coherence2]]))"
   ]
  },
  {
   "cell_type": "markdown",
   "metadata": {},
   "source": [
    "Считается, что когерентность хорошо соотносится с человеческими оценками интерпретируемости тем. Поэтому на больших текстовых коллекциях когерентность обычно повышается, если убрать фоновую лексику. Однако в нашем случае этого не произошло. "
   ]
  },
  {
   "cell_type": "markdown",
   "metadata": {},
   "source": [
    "### Изучение влияния гиперпараметра alpha"
   ]
  },
  {
   "cell_type": "markdown",
   "metadata": {},
   "source": [
    "В этом разделе мы будем работать со второй моделью, то есть той, которая построена по сокращенному корпусу. \n",
    "\n",
    "Пока что мы посмотрели только на матрицу темы-слова, теперь давайте посмотрим на матрицу темы-документы. Выведите темы для нулевого (или любого другого) документа из корпуса, воспользовавшись методом *get_document_topics* второй модели:"
   ]
  },
  {
   "cell_type": "code",
   "execution_count": 74,
   "metadata": {},
   "outputs": [
    {
     "data": {
      "text/plain": [
       "[(4, 0.20249844), (25, 0.10249703), (31, 0.49407616), (33, 0.110924974)]"
      ]
     },
     "execution_count": 74,
     "metadata": {},
     "output_type": "execute_result"
    }
   ],
   "source": [
    "ldamodel2.get_document_topics(corpus[0])"
   ]
  },
  {
   "cell_type": "markdown",
   "metadata": {},
   "source": [
    "Также выведите содержимое переменной *.alpha* второй модели:"
   ]
  },
  {
   "cell_type": "code",
   "execution_count": 75,
   "metadata": {},
   "outputs": [
    {
     "data": {
      "text/plain": [
       "array([0.025, 0.025, 0.025, 0.025, 0.025, 0.025, 0.025, 0.025, 0.025,\n",
       "       0.025, 0.025, 0.025, 0.025, 0.025, 0.025, 0.025, 0.025, 0.025,\n",
       "       0.025, 0.025, 0.025, 0.025, 0.025, 0.025, 0.025, 0.025, 0.025,\n",
       "       0.025, 0.025, 0.025, 0.025, 0.025, 0.025, 0.025, 0.025, 0.025,\n",
       "       0.025, 0.025, 0.025, 0.025], dtype=float32)"
      ]
     },
     "execution_count": 75,
     "metadata": {},
     "output_type": "execute_result"
    }
   ],
   "source": [
    "ldamodel2.alpha"
   ]
  },
  {
   "cell_type": "markdown",
   "metadata": {},
   "source": [
    "У вас должно получиться, что документ характеризуется небольшим числом тем. Попробуем поменять гиперпараметр alpha, задающий априорное распределение Дирихле для распределений тем в документах."
   ]
  },
  {
   "cell_type": "markdown",
   "metadata": {},
   "source": [
    "__Задание 4.__ Обучите третью модель: используйте сокращенный корпус (corpus2 и dictionary2) и установите параметр __alpha=1__, passes=5. Не забудьте про фиксацию seed! Выведите темы новой модели для нулевого документа; должно получиться, что распределение над множеством тем практически равномерное. Чтобы убедиться в том, что во второй модели документы описываются гораздо более разреженными распределениями, чем в третьей, посчитайте суммарное количество элементов, __превосходящих 0.01__, в матрицах темы-документы обеих моделей. Другими словами, запросите темы  модели для каждого документа с параметром *minimum_probability=0.01* и просуммируйте число элементов в получаемых массивах. Передайте две суммы (сначала для модели с alpha по умолчанию, затем для модели в alpha=1) в функцию save_answers4."
   ]
  },
  {
   "cell_type": "code",
   "execution_count": 78,
   "metadata": {},
   "outputs": [
    {
     "name": "stdout",
     "output_type": "stream",
     "text": [
      "[(0, 0.021007156), (1, 0.021668782), (2, 0.020408545), (3, 0.020557214), (4, 0.022036469), (5, 0.033962723), (6, 0.020536821), (7, 0.020547664), (8, 0.020584231), (9, 0.020907762), (10, 0.020963311), (11, 0.020666989), (12, 0.020417623), (13, 0.02151762), (14, 0.020831916), (15, 0.02071266), (16, 0.020595372), (17, 0.021081375), (18, 0.020465802), (19, 0.020812362), (20, 0.023758337), (21, 0.020431474), (22, 0.020418169), (23, 0.020420108), (24, 0.020868616), (25, 0.020661132), (26, 0.02061253), (27, 0.04178135), (28, 0.020701066), (29, 0.020449907), (30, 0.04087436), (31, 0.08852497), (32, 0.020829694), (33, 0.020427), (34, 0.021613136), (35, 0.020496594), (36, 0.020472176), (37, 0.020465508), (38, 0.020409578), (39, 0.06550193)]\n"
     ]
    }
   ],
   "source": [
    "np.random.seed(76543)\n",
    "# здесь код для построения модели:\n",
    "ldamodel3 = models.ldamodel.LdaModel(corpus2, \n",
    "                                     id2word=dictionary2, \n",
    "                                     alpha=1,\n",
    "                                     passes=5,\n",
    "                                     num_topics=40, \n",
    "                                     passes=5)\n",
    "print(ldamodel3.get_document_topics(corpus[0]))"
   ]
  },
  {
   "cell_type": "code",
   "execution_count": 89,
   "metadata": {},
   "outputs": [],
   "source": [
    "count_model2 = 0\n",
    "count_model3 = 0\n",
    "\n",
    "for doc in corpus2:\n",
    "    count_model2+=len(ldamodel2.get_document_topics(doc, minimum_probability=0.01))\n",
    "    count_model3+=len(ldamodel3.get_document_topics(doc, minimum_probability=0.01))"
   ]
  },
  {
   "cell_type": "code",
   "execution_count": 90,
   "metadata": {},
   "outputs": [],
   "source": [
    "save_answers4(count_model2, count_model3)"
   ]
  },
  {
   "cell_type": "code",
   "execution_count": 79,
   "metadata": {},
   "outputs": [],
   "source": [
    "def save_answers4(count_model2, count_model3):\n",
    "    with open(\"cooking_LDA_pa_task4.txt\", \"w\") as fout:\n",
    "        fout.write(\" \".join([str(el) for el in [count_model2, count_model3]]))"
   ]
  },
  {
   "cell_type": "markdown",
   "metadata": {},
   "source": [
    "Таким образом, гиперпараметр __alpha__ влияет на разреженность распределений тем в документах. Аналогично гиперпараметр __eta__ влияет на разреженность распределений слов в темах."
   ]
  },
  {
   "cell_type": "markdown",
   "metadata": {},
   "source": [
    "### LDA как способ понижения размерности\n",
    "Иногда, распределения над темами, найденные с помощью LDA, добавляют в матрицу объекты-признаки как дополнительные, семантические, признаки, и это может улучшить качество решения задачи. Для простоты давайте просто обучим классификатор рецептов на кухни на признаках, полученных из LDA, и измерим точность (accuracy).\n",
    "\n",
    "__Задание 5.__ Используйте модель, построенную по сокращенной выборке с alpha по умолчанию (вторую модель). Составьте матрицу $\\Theta = p(t|d)$ вероятностей тем в документах; вы можете использовать тот же метод get_document_topics, а также вектор правильных ответов y (в том же порядке, в котором рецепты идут в переменной recipes). Создайте объект RandomForestClassifier со 100 деревьями, с помощью функции cross_val_score вычислите среднюю accuracy по трем фолдам (перемешивать данные не нужно) и передайте в функцию save_answers5."
   ]
  },
  {
   "cell_type": "code",
   "execution_count": 117,
   "metadata": {},
   "outputs": [],
   "source": [
    "from sklearn.ensemble import RandomForestClassifier\n",
    "from sklearn.model_selection import cross_val_score"
   ]
  },
  {
   "cell_type": "code",
   "execution_count": 154,
   "metadata": {},
   "outputs": [],
   "source": [
    "theta = np.empty((len(corpus), len(topics2)))\n",
    "for i in range(len(corpus)):\n",
    "    current_topic_list = ldamodel2.get_document_topics(corpus2[i])\n",
    "    for pair in current_topic_list:\n",
    "        theta[i][pair[0]] = pair[1]"
   ]
  },
  {
   "cell_type": "code",
   "execution_count": 153,
   "metadata": {},
   "outputs": [
    {
     "name": "stdout",
     "output_type": "stream",
     "text": [
      "[0, 1, 2, 3, 4, 5, 6, 7, 8, 9]\n"
     ]
    }
   ],
   "source": [
    "len(corpus)"
   ]
  },
  {
   "cell_type": "code",
   "execution_count": 157,
   "metadata": {},
   "outputs": [],
   "source": [
    "cv_number = 3 \n",
    "y = [recipe['cuisine'] for recipe in recipes]\n",
    "\n",
    "clf = RandomForestClassifier(n_estimators=100)\n",
    "scores = cross_val_score(clf, theta, y, cv=cv_number)\n",
    "\n"
   ]
  },
  {
   "cell_type": "code",
   "execution_count": 161,
   "metadata": {},
   "outputs": [],
   "source": [
    "accuracy = sum(scores)/cv_number\n",
    "save_answers5(accuracy)"
   ]
  },
  {
   "cell_type": "code",
   "execution_count": 162,
   "metadata": {},
   "outputs": [],
   "source": [
    "def save_answers5(accuracy):\n",
    "     with open(\"cooking_LDA_pa_task5.txt\", \"w\") as fout:\n",
    "        fout.write(str(accuracy))"
   ]
  },
  {
   "cell_type": "markdown",
   "metadata": {},
   "source": [
    "Для такого большого количества классов это неплохая точность. Вы можете попроовать обучать RandomForest на исходной матрице частот слов, имеющей значительно большую размерность, и увидеть, что accuracy увеличивается на 10–15%. Таким образом, LDA собрал не всю, но достаточно большую часть информации из выборки, в матрице низкого ранга."
   ]
  },
  {
   "cell_type": "markdown",
   "metadata": {},
   "source": [
    "### LDA — вероятностная модель\n",
    "Матричное разложение, использующееся в LDA, интерпретируется как следующий процесс генерации документов.\n",
    "\n",
    "Для документа $d$ длины $n_d$:\n",
    "1. Из априорного распределения Дирихле с параметром alpha сгенерировать распределение над множеством тем: $\\theta_d \\sim Dirichlet(\\alpha)$\n",
    "1. Для каждого слова $w = 1, \\dots, n_d$:\n",
    "    1. Сгенерировать тему из дискретного распределения $t \\sim \\theta_{d}$\n",
    "    1. Сгенерировать слово из дискретного распределения $w \\sim \\phi_{t}$.\n",
    "    \n",
    "Подробнее об этом в [Википедии](https://en.wikipedia.org/wiki/Latent_Dirichlet_allocation).\n",
    "\n",
    "В контексте нашей задачи получается, что, используя данный генеративный процесс, можно создавать новые рецепты. Вы можете передать в функцию модель и число ингредиентов и сгенерировать рецепт :)"
   ]
  },
  {
   "cell_type": "code",
   "execution_count": null,
   "metadata": {},
   "outputs": [],
   "source": [
    "def generate_recipe(model, num_ingredients):\n",
    "    theta = np.random.dirichlet(model.alpha)\n",
    "    for i in range(num_ingredients):\n",
    "        t = np.random.choice(np.arange(model.num_topics), p=theta)\n",
    "        topic = model.show_topic(t, topn=model.num_terms)\n",
    "        topic_distr = [x[1] for x in topic]\n",
    "        terms = [x[0] for x in topic]\n",
    "        w = np.random.choice(terms, p=topic_distr)\n",
    "        print w"
   ]
  },
  {
   "cell_type": "code",
   "execution_count": null,
   "metadata": {},
   "outputs": [],
   "source": []
  },
  {
   "cell_type": "markdown",
   "metadata": {},
   "source": [
    "### Интерпретация построенной модели\n",
    "Вы можете рассмотреть топы ингредиентов каждой темы. Большиснтво тем сами по себе похожи на рецепты; в некоторых собираются продукты одного вида, например, свежие фрукты или разные виды сыра.\n",
    "\n",
    "Попробуем эмпирически соотнести наши темы с национальными кухнями (cuisine). Построим матрицу $A$ размера темы $x$ кухни, ее элементы $a_{tc}$ — суммы $p(t|d)$ по всем документам $d$, которые отнесены к кухне $c$. Нормируем матрицу на частоты рецептов по разным кухням, чтобы избежать дисбаланса между кухнями. Следующая функция получает на вход объект модели, объект корпуса и исходные данные и возвращает нормированную матрицу $A$. Ее удобно визуализировать с помощью seaborn."
   ]
  },
  {
   "cell_type": "code",
   "execution_count": null,
   "metadata": {},
   "outputs": [],
   "source": [
    "import pandas\n",
    "import seaborn\n",
    "from matplotlib import pyplot as plt\n",
    "%matplotlib inline"
   ]
  },
  {
   "cell_type": "code",
   "execution_count": null,
   "metadata": {},
   "outputs": [],
   "source": [
    "def compute_topic_cuisine_matrix(model, corpus, recipes):\n",
    "    # составляем вектор целевых признаков\n",
    "    targets = list(set([recipe[\"cuisine\"] for recipe in recipes]))\n",
    "    # составляем матрицу\n",
    "    tc_matrix = pandas.DataFrame(data=np.zeros((model.num_topics, len(targets))), columns=targets)\n",
    "    for recipe, bow in zip(recipes, corpus):\n",
    "        recipe_topic = model.get_document_topics(bow)\n",
    "        for t, prob in recipe_topic:\n",
    "            tc_matrix[recipe[\"cuisine\"]][t] += prob\n",
    "    # нормируем матрицу\n",
    "    target_sums = pandas.DataFrame(data=np.zeros((1, len(targets))), columns=targets)\n",
    "    for recipe in recipes:\n",
    "        target_sums[recipe[\"cuisine\"]] += 1\n",
    "    return pandas.DataFrame(tc_matrix.values/target_sums.values, columns=tc_matrix.columns)"
   ]
  },
  {
   "cell_type": "code",
   "execution_count": null,
   "metadata": {},
   "outputs": [],
   "source": [
    "def plot_matrix(tc_matrix):\n",
    "    plt.figure(figsize=(10, 10))\n",
    "    seaborn.heatmap(tc_matrix, square=True)"
   ]
  },
  {
   "cell_type": "code",
   "execution_count": null,
   "metadata": {},
   "outputs": [],
   "source": [
    "# Визуализируйте матрицу\n"
   ]
  },
  {
   "cell_type": "markdown",
   "metadata": {},
   "source": [
    "Чем темнее квадрат в матрице, тем больше связь этой темы с данной кухней. Мы видим, что у нас есть темы, которые связаны с несколькими кухнями. Такие темы показывают набор ингредиентов, которые популярны в кухнях нескольких народов, то есть указывают на схожесть кухонь этих народов. Некоторые темы распределены по всем кухням равномерно, они показывают наборы продуктов, которые часто используются в кулинарии всех стран. "
   ]
  },
  {
   "cell_type": "markdown",
   "metadata": {},
   "source": [
    "Жаль, что в датасете нет названий рецептов, иначе темы было бы проще интерпретировать..."
   ]
  },
  {
   "cell_type": "markdown",
   "metadata": {},
   "source": [
    "### Заключение\n",
    "В этом задании вы построили несколько моделей LDA, посмотрели, на что влияют гиперпараметры модели и как можно использовать построенную модель. "
   ]
  }
 ],
 "metadata": {
  "kernelspec": {
   "display_name": "Python 3",
   "language": "python",
   "name": "python3"
  },
  "language_info": {
   "codemirror_mode": {
    "name": "ipython",
    "version": 3
   },
   "file_extension": ".py",
   "mimetype": "text/x-python",
   "name": "python",
   "nbconvert_exporter": "python",
   "pygments_lexer": "ipython3",
   "version": "3.7.4"
  }
 },
 "nbformat": 4,
 "nbformat_minor": 1
}
